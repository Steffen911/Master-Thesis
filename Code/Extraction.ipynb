{
 "cells": [
  {
   "cell_type": "markdown",
   "metadata": {
    "collapsed": true,
    "pycharm": {
     "name": "#%% md\n"
    }
   },
   "source": [
    "# Extraction\n",
    "\n",
    "In this notebook, we will extract the breadcrumb, categories and URLs for\n",
    "all products and store them in a relational data base."
   ]
  },
  {
   "cell_type": "code",
   "execution_count": 2,
   "outputs": [],
   "source": [
    "import gzip\n",
    "import re\n",
    "import os\n",
    "import shutil\n",
    "import sqlite3\n",
    "from urllib import request"
   ],
   "metadata": {
    "collapsed": false,
    "pycharm": {
     "name": "#%%\n",
     "is_executing": false
    }
   }
  },
  {
   "cell_type": "code",
   "execution_count": 3,
   "outputs": [],
   "source": [
    "# setup tables\n",
    "conn = sqlite3.connect('products.db') \n",
    "with conn:\n",
    "    conn.execute(\"\"\"\n",
    "        CREATE TABLE IF NOT EXISTS\n",
    "            taxonomies(NODE TEXT PRIMARY KEY,\n",
    "                       URL TEXT,\n",
    "                       CATEGORY TEXT,\n",
    "                       BREADCRUMB TEXT)\n",
    "    \"\"\")\n",
    "    conn.execute(\"\"\"\n",
    "        CREATE TABLE IF NOT EXISTS\n",
    "            product_ids(NODE TEXT PRIMARY KEY,\n",
    "                        SKU TEXT,\n",
    "                        PRODUCT_ID TEXT,\n",
    "                        MPN TEXT,\n",
    "                        GTIN13 TEXT,\n",
    "                        IDENTIFIER TEXT)\n",
    "    \"\"\")"
   ],
   "metadata": {
    "collapsed": false,
    "pycharm": {
     "name": "#%%\n",
     "is_executing": false
    }
   }
  },
  {
   "cell_type": "code",
   "execution_count": 4,
   "outputs": [],
   "source": [
    "taxo_pattern = re.compile(\"<http://schema.org/Product/category>|<http://schema.org/Product/breadcrumb>|<http://schema.org/Product/url>\", re.IGNORECASE)\n",
    "id_pattern = re.compile(\"<http://schema.org/Product/sku>|<http://schema.org/Product/productID>|<http://schema.org/Product/mpn>|<http://schema.org/Product/gtin13>|<http://schema.org/Product/identifier>\", re.IGNORECASE)\n",
    "base_url = \"http://data.dws.informatik.uni-mannheim.de/2018-12_schemaChunks/Product_MD/split_product.\"\n",
    "\n",
    "for i in range(1, 97):\n",
    "    filename = \"../Data/products_\" + str(i)            \n",
    "    if not os.path.exists(filename + \".gz\"):\n",
    "        request.urlretrieve(base_url + str(i) + \".gz\", filename + \".gz\")\n",
    "        print(\"successfully downloaded \" + filename + \".gz\")\n",
    "    if not os.path.exists(filename):\n",
    "        with open(filename, 'wb') as target:\n",
    "            with gzip.open(filename + \".gz\", 'rb') as source:\n",
    "                shutil.copyfileobj(source, target)\n",
    "        print(\"successfully extracted \" + filename + \".gz\")\n",
    "        \n",
    "    print(\"processing \" + filename + \"...\")\n",
    "    with open(filename, mode='r') as f:\n",
    "        j = 0\n",
    "        for line in iter(f.readline, ''): \n",
    "            j += 1\n",
    "            if j % 10000000 == 0:\n",
    "                print(\"processed \" + str(j / 1000000) + \" million lines so far\")\n",
    "                \n",
    "            if not taxo_pattern.search(line) or not id_pattern.search(line):\n",
    "                continue  # abort execution for no matches\n",
    "            \n",
    "            props = line.split()\n",
    "            with conn:\n",
    "                if taxo_pattern.search(line):\n",
    "                    conn.execute(\"INSERT OR IGNORE INTO taxonomies (NODE) VALUES (?)\", (props[0],))\n",
    "                if id_pattern.search(line):\n",
    "                    conn.execute(\"INSERT OR IGNORE INTO product_ids (NODE) VALUES (?)\", (props[0],))\n",
    "                \n",
    "                # handle taxonomy related info\n",
    "                if props[1] == \"<http://schema.org/Product/category>\":\n",
    "                    conn.execute(\"UPDATE taxonomies SET CATEGORY = ? WHERE NODE = ?\", (props[2], props[0]))\n",
    "                if props[1] == \"<http://schema.org/Product/url>\":\n",
    "                    conn.execute(\"UPDATE taxonomies SET URL = ? WHERE NODE = ?\", (props[2], props[0]))\n",
    "                if props[1] == \"<http://schema.org/Product/breadcrumb>\":\n",
    "                    conn.execute(\"UPDATE taxonomies SET BREADCRUMB = ? WHERE NODE = ?\", (props[2], props[0]))\n",
    "                    \n",
    "                # handle id related info\n",
    "                if props[1] == \"<http://schema.org/Product/sku>\":\n",
    "                    conn.execute(\"UPDATE product_ids SET SKU = ? WHERE NODE = ?\", (props[2], props[0]))\n",
    "                if props[1] == \"<http://schema.org/Product/productID>\":\n",
    "                    conn.execute(\"UPDATE product_ids SET PRODUCT_ID = ? WHERE NODE = ?\", (props[2], props[0]))\n",
    "                if props[1] == \"<http://schema.org/Product/mpn>\":\n",
    "                    conn.execute(\"UPDATE product_ids SET MPN = ? WHERE NODE = ?\", (props[2], props[0]))\n",
    "                if props[1] == \"<http://schema.org/Product/gtin13>\":\n",
    "                    conn.execute(\"UPDATE product_ids SET GTIN13 = ? WHERE NODE = ?\", (props[2], props[0]))\n",
    "                if props[1] == \"<http://schema.org/Product/identifier>\":\n",
    "                    conn.execute(\"UPDATE product_ids SET IDENTIFIER = ? WHERE NODE = ?\", (props[2], props[0]))       \n",
    "    \n",
    "    print(\"remove files after extraction...\")\n",
    "    os.remove(filename + \".gz\")\n",
    "    os.remove(filename)\n",
    "    print(\"successfully removed \" + filename + \"(.gz)\")\n",
    "            "
   ],
   "metadata": {
    "collapsed": false,
    "pycharm": {
     "name": "#%%\n",
     "is_executing": false
    }
   }
  }
 ],
 "metadata": {
  "kernelspec": {
   "display_name": "Python 3",
   "language": "python",
   "name": "python3"
  },
  "language_info": {
   "codemirror_mode": {
    "name": "ipython",
    "version": 2
   },
   "file_extension": ".py",
   "mimetype": "text/x-python",
   "name": "python",
   "nbconvert_exporter": "python",
   "pygments_lexer": "ipython2",
   "version": "2.7.6"
  },
  "pycharm": {
   "stem_cell": {
    "cell_type": "raw",
    "source": [],
    "metadata": {
     "collapsed": false
    }
   }
  }
 },
 "nbformat": 4,
 "nbformat_minor": 0
}